{
 "cells": [
  {
   "cell_type": "markdown",
   "metadata": {},
   "source": [
    "#  Factors that Influence Fan Ratings of Formula One Games"
   ]
  },
  {
   "cell_type": "code",
   "execution_count": null,
   "metadata": {},
   "outputs": [],
   "source": [
    "import matplotlib.pyplot as plt\n",
    "import pandas as pd\n",
    "import numpy as np\n",
    "import seaborn as sns\n",
    "import missingno\n",
    "import scipy.stats\n",
    "import pylab\n",
    "from sklearn.model_selection import KFold\n",
    "from sklearn.linear_model import LinearRegression\n",
    "%matplotlib inline\n"
   ]
  },
  {
   "cell_type": "code",
   "execution_count": null,
   "metadata": {},
   "outputs": [],
   "source": [
    "#load and explore rating data \n",
    "ratingdf = pd.read_csv('./Data/fan_rating.csv', delimiter=',')\n",
    "#ratingdf.head()\n",
    "#rating.describe()\n",
    "#rating.gp.unique()\n",
    "#plt.hist(ratingdf.rating,bins=20)\n"
   ]
  },
  {
   "cell_type": "code",
   "execution_count": null,
   "metadata": {},
   "outputs": [],
   "source": [
    "#overtake data \n",
    "ot = pd.read_csv('./Data/overtaking.csv', delimiter=',',encoding = \"ISO-8859-1\")\n",
    "ot['SCLaps'].fillna(0, inplace=True)\n",
    "ot.describe()\n",
    "\n",
    "#Merge overtake and rating data\n",
    "df1 = pd.merge(ratingdf,ot, on = ['year','gp'] , how = 'right')\n",
    "df1.drop(['raceNum'], axis = 1,inplace=True)\n",
    "#df1.head()"
   ]
  },
  {
   "cell_type": "code",
   "execution_count": null,
   "metadata": {},
   "outputs": [],
   "source": [
    "#Championship data\n",
    "cp = pd.read_csv('./Data/clinchedChamp.csv', delimiter=',',encoding = \"ISO-8859-1\")\n",
    "df2 = pd.merge(df1,cp, on = ['year'] , how = 'left')\n",
    "df2['totalrace'] = df2.groupby('year')['Race'].transform(max)\n",
    "\n",
    "#create a column as indicator for whether championship is clinched\n",
    "df2['Clinched'] = 'No'\n",
    "df2.totalrace - df2.roundsLeft\n",
    "df2.loc[df2.Race >= df2.totalrace - df2.roundsLeft, ['Clinched'] ] = 'Yes'\n",
    "#df2.Clinched.describe()\n"
   ]
  },
  {
   "cell_type": "code",
   "execution_count": null,
   "metadata": {},
   "outputs": [],
   "source": [
    "# game results \n",
    "races = pd.read_csv('./Data/formula-1-race-data-19502017/races.csv', delimiter=',',encoding = \"ISO-8859-1\")\n",
    "results = pd.read_csv('./Data/formula-1-race-data-19502017/results.csv', delimiter=',',encoding = \"ISO-8859-1\")\n",
    "lapTimes = pd.read_csv('./Data/formula-1-race-data-19502017/lapTimes.csv', delimiter=',',encoding = \"ISO-8859-1\")\n",
    "circuits = pd.read_csv('./Data/formula-1-race-data-19502017/circuits.csv', delimiter=',',encoding = \"ISO-8859-1\")\n",
    "lapTimes.describe()\n",
    "laplead = lapTimes.copy()\n",
    "laplead = laplead[laplead.position == 1]\n",
    "laplead.head()\n",
    "\n",
    "laplead['prevlap'] = laplead.lap -1\n",
    "\n",
    "test = pd.merge(laplead,laplead,left_on=['raceId','lap'], right_on=['raceId','prevlap'], how = 'inner',suffixes=('_race', '_next'))\n",
    "\n",
    "#create a column as indicator for whether lap leader has changed \n",
    "test['change'] = 0\n",
    "test.loc[test.driverId_race != test.driverId_next, ['change'] ] = 1\n",
    "leadchange = test.groupby('raceId')['change'].sum()\n",
    "\n",
    "temp = leadchange.to_frame().reset_index()\n",
    "len(lapTimes['raceId'].unique())\n"
   ]
  },
  {
   "cell_type": "code",
   "execution_count": null,
   "metadata": {},
   "outputs": [],
   "source": [
    "leadchangedf = pd.merge(temp, races,on ='raceId', how = 'left')\n",
    "leadchangedf.head()\n",
    "df2 = pd.merge(df2, leadchangedf,on = ['year','gp'],how = 'left')\n"
   ]
  },
  {
   "cell_type": "code",
   "execution_count": null,
   "metadata": {},
   "outputs": [],
   "source": [
    "#check whether gp wording is consitent across datasets \n",
    "otgp = df2.gp.unique()\n",
    "#print(otgp)\n",
    "leadgp = list(leadchangedf.gp.unique())\n",
    "#print(leadgp)\n",
    "\n",
    "#set(leadgp).symmetric_difference(set(otgp))"
   ]
  },
  {
   "cell_type": "markdown",
   "metadata": {},
   "source": [
    "# Does F1 become less interesting over the years?"
   ]
  },
  {
   "cell_type": "code",
   "execution_count": null,
   "metadata": {},
   "outputs": [],
   "source": [
    "#plot rating by year \n",
    "sns.boxplot(x='year', y='rating', data=ratingdf,color= 'green')\n",
    "plt.title(\"Fan Rating by Year\")\n",
    "plt.xlabel(\"Year\")\n",
    "plt.ylabel(\"Rating\")"
   ]
  },
  {
   "cell_type": "markdown",
   "metadata": {},
   "source": [
    "# Which Grand Prix are the most and least interesting? "
   ]
  },
  {
   "cell_type": "code",
   "execution_count": null,
   "metadata": {},
   "outputs": [],
   "source": [
    "grouped = ratingdf.groupby(\"gp\")\n",
    "users_sorted_average = pd.DataFrame({col:vals['rating'] for col,vals in grouped}).median().sort_values(ascending=False)   \n",
    "ax = sns.boxplot(x='gp', y='rating', data=ratingdf, order=users_sorted_average.index)\n",
    "ax.set_xticklabels(ax.get_xticklabels(), rotation=40, ha=\"right\")\n",
    "plt.title(\"Fan Rating by Location (Grand Prix)\")\n",
    "plt.tight_layout()\n",
    "plt.xlabel(\"Grand Prix\")\n",
    "plt.ylabel(\"Rating\")"
   ]
  },
  {
   "cell_type": "code",
   "execution_count": null,
   "metadata": {},
   "outputs": [],
   "source": [
    "ratingdf['exist_ind'] = 10\n",
    "ratingdf.describe()\n",
    "ratingm = ratingdf.pivot_table(index='gp', columns='year',values= 'exist_ind')  \n",
    "ax = sns.heatmap(ratingm, cbar = False, linewidths=.5)\n",
    "\n",
    "plt.title(\"Rating Data Availability\")\n",
    "plt.xlabel(\"Year\")\n",
    "plt.ylabel(\"Grand Prix\")\n"
   ]
  },
  {
   "cell_type": "code",
   "execution_count": null,
   "metadata": {},
   "outputs": [],
   "source": [
    "#ratingdf.head()"
   ]
  },
  {
   "cell_type": "markdown",
   "metadata": {},
   "source": [
    "\n",
    "# Do wet tracks generally have higher rating? "
   ]
  },
  {
   "cell_type": "code",
   "execution_count": null,
   "metadata": {},
   "outputs": [],
   "source": [
    "\n",
    "df2.Weather.value_counts()\n",
    "sns.boxplot(y='Weather', x='rating', data=df2)\n",
    "sns.swarmplot(y='Weather', x='rating', data=df2)\n",
    "\n",
    "plt.title(\"Rating by Track Condition\")\n",
    "plt.xlabel(\"Rating\")\n",
    "plt.ylabel(\"Track Condition\")"
   ]
  },
  {
   "cell_type": "markdown",
   "metadata": {},
   "source": [
    "# Does the occurence of safety car mean higher rating? "
   ]
  },
  {
   "cell_type": "code",
   "execution_count": null,
   "metadata": {},
   "outputs": [],
   "source": [
    "df2['SCind'] = 0\n",
    "df2.loc[df2.SCLaps > 0,['SCind']] = 'Yes'\n",
    "df2.loc[df2.SCLaps == 0,['SCind']] = 'No'\n",
    "#print (df2.loc[df2.year == 2017,['SCLaps', 'SCind']])"
   ]
  },
  {
   "cell_type": "code",
   "execution_count": null,
   "metadata": {},
   "outputs": [],
   "source": [
    "df2['SCind'].value_counts()\n",
    "sns.boxplot(x='SCind', y='rating', data=df2)\n",
    "plt.title(\"Rating by Safety Car Apperance\")\n",
    "plt.xlabel(\"Safety Car Apperance\")\n",
    "plt.ylabel(\"Rating\")"
   ]
  },
  {
   "cell_type": "markdown",
   "metadata": {},
   "source": [
    "# Do more overtakes mean higher rating?"
   ]
  },
  {
   "cell_type": "code",
   "execution_count": null,
   "metadata": {},
   "outputs": [],
   "source": [
    "#plt.hist(df2['Overtakes'])\n"
   ]
  },
  {
   "cell_type": "code",
   "execution_count": null,
   "metadata": {},
   "outputs": [],
   "source": [
    "\n",
    "plt.scatter(x='Overtakes', y='rating', data=df2)\n",
    "plt.title(\"Rating by Overtakes\")\n",
    "plt.xlabel(\"Number of Overtakes per GP\")\n",
    "plt.ylabel(\"Rating\")"
   ]
  },
  {
   "cell_type": "code",
   "execution_count": null,
   "metadata": {},
   "outputs": [],
   "source": [
    "# Log Transformation \n",
    "df2['Overtakes_log'] = np.log((1+ df2['Overtakes']))\n",
    "#plt.hist(df2['Overtakes_log'])\n",
    "\n",
    "# Plot after log-transformation \n",
    "a4_dims = (11.7, 8.27)\n",
    "fig, ax = plt.subplots(figsize=a4_dims)\n",
    "\n",
    "plt.scatter(x='Overtakes_log', y='rating', data=df2)\n",
    "plt.title(\"Fan Rating by Overtakes per Match\",fontsize=20)\n",
    "plt.xlabel(\"log (Number of Overtakes per GP)\",fontsize=18)\n",
    "plt.ylabel(\"Rating\",fontsize=18)"
   ]
  },
  {
   "cell_type": "markdown",
   "metadata": {},
   "source": [
    "# Championship Claimed. Are the remaining games less interesting?"
   ]
  },
  {
   "cell_type": "code",
   "execution_count": null,
   "metadata": {},
   "outputs": [],
   "source": [
    "\n",
    "sns.boxplot(x='Clinched', y='rating', data=df2)\n",
    "plt.title(\"Rating by Wheathe A Game Matters for the Champion\")\n",
    "plt.xlabel(\"Championship Clinched\")\n",
    "plt.ylabel(\"Rating\")"
   ]
  },
  {
   "cell_type": "markdown",
   "metadata": {},
   "source": [
    "# Competitve Balance  (Lead Change, Margin of Victory)"
   ]
  },
  {
   "cell_type": "code",
   "execution_count": null,
   "metadata": {},
   "outputs": [],
   "source": [
    "# Count Lead Change per GP \n",
    "sns.boxplot(x='change', y='rating', data=df2)\n",
    "plt.title(\"Rating by Lead Change\")\n",
    "plt.xlabel(\"Number of Lead Change\")\n",
    "plt.ylabel(\"Rating\")\n"
   ]
  },
  {
   "cell_type": "code",
   "execution_count": null,
   "metadata": {},
   "outputs": [],
   "source": [
    "# Calculate margin of victory \n",
    "\n",
    "victory = results[(results.positionOrder == 1) | (results.positionOrder == 2)]\n",
    "\n",
    "marginV = victory.groupby('raceId')['milliseconds'].apply(lambda g: g.max()- g.min())\n",
    "marginV =  marginV.to_frame().reset_index()\n",
    "marginV.columns = ['raceId', 'margin']\n",
    "\n",
    "marginV = pd.merge(marginV, races,on ='raceId', how = 'left')\n",
    "marginV = marginV[['year','gp','margin']]\n",
    "df2 = pd.merge(df2, marginV,on = ['year','gp'],how = 'left')\n",
    "df2.loc[df2.margin == 0,'margin']= np.nan # change margin to NA when not available"
   ]
  },
  {
   "cell_type": "code",
   "execution_count": null,
   "metadata": {},
   "outputs": [],
   "source": [
    "\n",
    "plt.scatter(x='margin', y='rating', data=df2)\n",
    "plt.title(\"Rating by Margin of Victory\")\n",
    "plt.xlabel(\"Margin of Victory (milliseconds)\")\n",
    "plt.ylabel(\"Rating\")\n",
    "plt.show()"
   ]
  },
  {
   "cell_type": "code",
   "execution_count": null,
   "metadata": {},
   "outputs": [],
   "source": [
    "#plt.hist(df2['margin'])\n",
    "df2['margin_log'] = np.log((1+ df2['margin']))\n",
    "#plt.hist(df2['margin_log'])"
   ]
  },
  {
   "cell_type": "code",
   "execution_count": null,
   "metadata": {},
   "outputs": [],
   "source": [
    "#df2.loc[df2['margin']>50000,:]\n",
    "#sns.boxplot(x='year', y='margin', data=df2)\n",
    "#win margin decrease over the years "
   ]
  },
  {
   "cell_type": "code",
   "execution_count": null,
   "metadata": {},
   "outputs": [],
   "source": [
    "\n",
    "plt.scatter(x='margin_log', y='rating', data=df2)\n",
    "plt.title(\"Rating by Margin of Victory\")\n",
    "plt.xlabel(\"log Margin of Victory (milliseconds)\")\n",
    "plt.ylabel(\"Rating\")\n",
    "plt.show()"
   ]
  },
  {
   "cell_type": "markdown",
   "metadata": {},
   "source": [
    "# Does Pit Stops Influence Rating?"
   ]
  },
  {
   "cell_type": "code",
   "execution_count": null,
   "metadata": {},
   "outputs": [],
   "source": [
    "## Analyze Pit Stops \n",
    "pit = pd.read_csv('./Data/formula-1-race-data-19502017/pit_stops.csv', delimiter=',')"
   ]
  },
  {
   "cell_type": "code",
   "execution_count": null,
   "metadata": {},
   "outputs": [],
   "source": [
    "#pit.head()"
   ]
  },
  {
   "cell_type": "code",
   "execution_count": null,
   "metadata": {},
   "outputs": [],
   "source": [
    "pitdf = pd.merge(pit, races,on='raceId', how = 'left') # pit only available after 2011"
   ]
  },
  {
   "cell_type": "code",
   "execution_count": null,
   "metadata": {},
   "outputs": [],
   "source": [
    "pitdur = pitdf.groupby(['year','round'])['stop'].mean().reset_index(name= 'avg_duration')\n",
    "#pitdur.head()\n",
    "sns.boxplot(x = 'year', y = 'avg_duration', data = pitdur)\n",
    "#pitdf.isnull().sum()"
   ]
  },
  {
   "cell_type": "code",
   "execution_count": null,
   "metadata": {},
   "outputs": [],
   "source": [
    "pitcount = pitdf.groupby(['raceId','driverId'])['stop'].max().reset_index(name= 'stopcount')\n",
    "pitcount.head()\n",
    "temp1 = pitcount.groupby(['raceId','stopcount']).size().reset_index(name= 'driverusingStops')\n",
    "temp1.head()\n",
    "Pitdiversty = temp1.groupby('raceId')['stopcount'].size().reset_index(name= 'NPitStrategy')\n",
    "#Pitdiversty.describe()"
   ]
  },
  {
   "cell_type": "markdown",
   "metadata": {},
   "source": [
    "Teams stop less over the years"
   ]
  },
  {
   "cell_type": "code",
   "execution_count": null,
   "metadata": {},
   "outputs": [],
   "source": [
    "df3 = pd.merge(df2,Pitdiversty, on = ['raceId'] , how = 'left')"
   ]
  },
  {
   "cell_type": "markdown",
   "metadata": {},
   "source": [
    "# Does Rating Increase with Speed?"
   ]
  },
  {
   "cell_type": "code",
   "execution_count": null,
   "metadata": {},
   "outputs": [],
   "source": [
    "fastest = lapTimes.groupby('raceId')['milliseconds'].min().reset_index(name= 'fastestTime')\n",
    "df4 = pd.merge(df3, fastest, on = ['raceId'] , how = 'left')"
   ]
  },
  {
   "cell_type": "code",
   "execution_count": null,
   "metadata": {},
   "outputs": [],
   "source": [
    "#ax = sns.boxplot(x = 'year', y = 'fastestTime', data = df4.loc[pd.notnull(df4['fastestTime']),:])\n",
    "#plt.scatter(x='fastestTime', y='rating', data=df4)\n",
    "#plt.hist(df4['fastestTime'])\n",
    "#ax.set_xticklabels(ax.get_xticklabels(), rotation=40, ha=\"right\")\n"
   ]
  },
  {
   "cell_type": "markdown",
   "metadata": {},
   "source": [
    "# Competitive Balance (Spearman Correlation between Qualifying Results and Finals)"
   ]
  },
  {
   "cell_type": "code",
   "execution_count": null,
   "metadata": {},
   "outputs": [],
   "source": [
    "qualify = pd.read_csv('./Data/formula-1-race-data-19502017/qualifying.csv', delimiter=',',encoding = \"ISO-8859-1\")\n",
    "qualify.drop(['q1','q2','q3'], axis = 1,inplace=True)\n",
    "\n",
    "qualify = qualify.rename(index=str, columns={\"position\": \"position_qualify\"})\n",
    "#qualify.head()"
   ]
  },
  {
   "cell_type": "code",
   "execution_count": null,
   "metadata": {},
   "outputs": [],
   "source": [
    "rank = results[['positionOrder','raceId', 'driverId']]\n",
    "temp = pd.merge(qualify,rank, on = ['raceId', 'driverId'] , how = 'left')\n",
    "spear = temp.loc[pd.notnull(temp['position_qualify']),:]"
   ]
  },
  {
   "cell_type": "code",
   "execution_count": null,
   "metadata": {},
   "outputs": [],
   "source": [
    "spear_list = []\n",
    "for id in list(spear.raceId.unique()):\n",
    "    temp0 = [id]\n",
    "    temp1 = spear.loc[spear['raceId'] == id,:]\n",
    "    spear_coeff = list(scipy.stats.pearsonr(temp1['position_qualify'], temp1['positionOrder']))\n",
    "    spear_list.append(spear_coeff + temp0)\n",
    "    "
   ]
  },
  {
   "cell_type": "code",
   "execution_count": null,
   "metadata": {},
   "outputs": [],
   "source": [
    "spear_coef = pd.DataFrame(spear_list, columns = [ 'spear', 'spear_p','raceId'])"
   ]
  },
  {
   "cell_type": "code",
   "execution_count": null,
   "metadata": {},
   "outputs": [],
   "source": [
    "df5 = pd.merge(df4, spear_coef, on = ['raceId'] , how = 'left')\n",
    "#df5.head()"
   ]
  },
  {
   "cell_type": "code",
   "execution_count": null,
   "metadata": {},
   "outputs": [],
   "source": [
    "a4_dims = (11.7, 8.27)\n",
    "fig, ax = plt.subplots(figsize=a4_dims)\n",
    "plt.scatter(x = 'spear', y = 'rating',data= df5)\n",
    "plt.title(\"Fan Rating by Position Change btw Qualifying and Final\",fontsize=20)\n",
    "plt.xlabel(\"Spearman Rank Correlation Coefficient (Qualifying & Final Results) \",fontsize=18)\n",
    "plt.ylabel(\"Rating\",fontsize=18)"
   ]
  },
  {
   "cell_type": "markdown",
   "metadata": {},
   "source": [
    "# Competitive  Balance (Driver/Team Standing at Each Match)"
   ]
  },
  {
   "cell_type": "code",
   "execution_count": null,
   "metadata": {},
   "outputs": [],
   "source": [
    "driverStandings = pd.read_csv('./Data/formula-1-race-data-19502017/driverStandings.csv', delimiter=',',encoding = \"ISO-8859-1\")\n",
    "constructorStandings = pd.read_csv('./Data/formula-1-race-data-19502017/constructorStandings.csv', delimiter=',',encoding = \"ISO-8859-1\")\n",
    "#driverStandings.head()"
   ]
  },
  {
   "cell_type": "code",
   "execution_count": null,
   "metadata": {},
   "outputs": [],
   "source": [
    "hhi_list = []\n",
    "for id in list(driverStandings.raceId.unique()):\n",
    "    temp1 = driverStandings.loc[driverStandings['raceId'] == id,'points']\n",
    "    total = temp1.sum()\n",
    "    hhi_elements = [(value/total)**2 for value in temp1]\n",
    "    hhi = sum(hhi_elements)\n",
    "    hhi_list.append([hhi, id])\n",
    "    \n",
    "hhi_list_team = []\n",
    "for id in list(constructorStandings.raceId.unique()):\n",
    "    temp1 = constructorStandings.loc[constructorStandings['raceId'] == id,'points']\n",
    "    total = temp1.sum()\n",
    "    hhi_elements = [(value/total)**2 for value in temp1]\n",
    "    hhi = sum(hhi_elements)\n",
    "    hhi_list_team.append([hhi, id])"
   ]
  },
  {
   "cell_type": "code",
   "execution_count": null,
   "metadata": {},
   "outputs": [],
   "source": [
    "hhidf = pd.DataFrame(hhi_list, columns = [ 'hhi', 'raceId'])\n",
    "hhidf ['log_hhi'] = np.log(hhidf['hhi'] )\n",
    "hhidf_team = pd.DataFrame(hhi_list_team, columns = [ 'hhi_team', 'raceId'])\n",
    "hhidf_team['log_hhi_team'] = np.log(hhidf_team['hhi_team'] )"
   ]
  },
  {
   "cell_type": "code",
   "execution_count": null,
   "metadata": {},
   "outputs": [],
   "source": [
    "#plt.hist(hhidf_team['log_hhi_team'])"
   ]
  },
  {
   "cell_type": "code",
   "execution_count": null,
   "metadata": {},
   "outputs": [],
   "source": [
    "df6 = pd.merge(df5, hhidf, on = ['raceId'] , how = 'left')\n",
    "df7 = pd.merge(df6, hhidf_team, on = ['raceId'] , how = 'left')"
   ]
  },
  {
   "cell_type": "code",
   "execution_count": null,
   "metadata": {},
   "outputs": [],
   "source": [
    "plt.scatter(x = 'year', y = 'hhi',data= df6.loc[df6['year']>=2008,:],c = 'year')\n",
    "\n",
    "sns.boxplot(x = 'year', y = 'hhi',data= df6.loc[df6['year']>=2008,:])\n",
    "plt.title(\"HHI-Change over the years\",fontsize = 20)\n",
    "plt.xlabel(\"Year\",fontsize = 18)\n",
    "plt.ylabel(\"HHI-Index\", fontsize = 18)"
   ]
  },
  {
   "cell_type": "code",
   "execution_count": null,
   "metadata": {},
   "outputs": [],
   "source": [
    "temp = df6.loc[df6['round'].notnull() ,:]\n",
    "#plt.scatter(y = 'rating', x = 'log_hhi', data= temp.loc[ temp['round'] > 1,:])"
   ]
  },
  {
   "cell_type": "code",
   "execution_count": null,
   "metadata": {},
   "outputs": [],
   "source": [
    "#plt.scatter(x = 'year', y = 'hhi',data= df6.loc[df6['year']>=2008,:],c = 'year')\n",
    "a4_dims = (11.7, 8.27)\n",
    "fig, ax = plt.subplots(figsize=a4_dims)\n",
    "sns.boxplot(x = 'year', y = 'log_hhi_team',data= df7.loc[df7['year']>=2008,:])\n",
    "plt.title(\"Change of Herfindahl-Hirschman Index (HHI) Over the years\",fontsize = 20)\n",
    "plt.xlabel(\"Year\", fontsize = 18)\n",
    "plt.ylabel(\"HHI\", fontsize = 18)"
   ]
  },
  {
   "cell_type": "code",
   "execution_count": null,
   "metadata": {},
   "outputs": [],
   "source": [
    "temp = df7.loc[df7['round'].notnull() ,:]\n",
    "#plt.scatter(y = 'rating', x = 'log_hhi_team', data= temp.loc[ temp['round'] > 1,:])"
   ]
  },
  {
   "cell_type": "code",
   "execution_count": null,
   "metadata": {},
   "outputs": [],
   "source": [
    "df7.to_csv (r'./Data/df7.csv', index = None, header=True,encoding='utf-8')"
   ]
  },
  {
   "cell_type": "code",
   "execution_count": null,
   "metadata": {},
   "outputs": [],
   "source": [
    "sns.boxplot(x = 'NPitStrategy', y = 'rating',data= df7.loc[df7['year']>=2008,:])\n",
    "plt.title(\"Number of Pit Stop Strategy\")\n",
    "plt.xlabel(\"Year\")\n",
    "plt.ylabel(\"HHI\")"
   ]
  },
  {
   "cell_type": "code",
   "execution_count": null,
   "metadata": {},
   "outputs": [],
   "source": []
  }
 ],
 "metadata": {
  "kernelspec": {
   "display_name": "Python 3",
   "language": "python",
   "name": "python3"
  },
  "language_info": {
   "codemirror_mode": {
    "name": "ipython",
    "version": 3
   },
   "file_extension": ".py",
   "mimetype": "text/x-python",
   "name": "python",
   "nbconvert_exporter": "python",
   "pygments_lexer": "ipython3",
   "version": "3.6.7"
  }
 },
 "nbformat": 4,
 "nbformat_minor": 2
}
